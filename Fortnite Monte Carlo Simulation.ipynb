{
 "cells": [
  {
   "cell_type": "code",
   "execution_count": 18,
   "metadata": {},
   "outputs": [],
   "source": [
    "import numpy as np\n",
    "import numpy.random as rd\n",
    "import statistics"
   ]
  },
  {
   "cell_type": "code",
   "execution_count": 6,
   "metadata": {},
   "outputs": [
    {
     "name": "stdout",
     "output_type": "stream",
     "text": [
      "[0, 1, 2, 3, 4, 5, 6, 7, 8, 9, 10, 11, 12, 13, 14, 15, 16, 17, 18, 19, 20, 21, 22, 23, 24, 25, 26, 27, 28, 29, 30, 31, 32, 33, 34, 35, 36, 37, 38, 39, 40, 41, 42, 43, 44, 45, 46, 47, 48, 49, 50, 51, 52, 53, 54, 55, 56, 57, 58, 59, 60, 61, 62, 63, 64, 65, 66, 67, 68, 69, 70, 71, 72, 73, 74, 75, 76, 77, 78, 79, 80, 81, 82, 83, 84, 85, 86, 87, 88, 89, 90, 91, 92, 93, 94, 95, 96, 97, 98, 99]\n",
      "[0, 0, 0, 0, 0, 0, 0, 0, 0, 0, 0, 0, 0, 0, 0, 0, 0, 0, 0, 0, 0, 0, 0, 0, 0, 0, 0, 0, 0, 0, 0, 0, 0, 0, 0, 0, 0, 0, 0, 0, 0, 0, 0, 0, 0, 0, 0, 0, 0, 0, 0, 0, 0, 0, 0, 0, 0, 0, 0, 0, 0, 0, 0, 0, 0, 0, 0, 0, 0, 0, 0, 0, 0, 0, 0, 0, 0, 0, 0, 0, 0, 0, 0, 0, 0, 0, 0, 0, 0, 0, 0, 0, 0, 0, 0, 0, 0, 0, 0, 0]\n"
     ]
    }
   ],
   "source": [
    "players = list(range(100))\n",
    "points = [0 for i in range(100)]\n",
    "print(players)\n",
    "print(points)"
   ]
  },
  {
   "cell_type": "code",
   "execution_count": 20,
   "metadata": {},
   "outputs": [
    {
     "name": "stdout",
     "output_type": "stream",
     "text": [
      "P value for margin above second: 0.0011\n",
      "P value for margin above third: 0.0019\n"
     ]
    }
   ],
   "source": [
    "marginabovesecond = []\n",
    "marginabovethird = []\n",
    "for i in range(10000):  # Number of simulation runs\n",
    "    points = [0 for i in range(100)]  # Reset everyone's points to zero after each World Cup simulation\n",
    "    for i in range(6):  # The Fortnite World Cup consists of six games\n",
    "        players = list(range(100))  # 100 players play in each game\n",
    "        storm = [-1 for i in range(5)]\n",
    "        # We'll have the storm/fall damage eliminate up to five players per game. No player gets the elimination credit.\n",
    "        for i in range(99):  # 99 players get eliminated each game\n",
    "            eliminated = rd.choice(players)\n",
    "            players.remove(eliminated)\n",
    "            elimcred = rd.choice(list(range(len(players)))+storm)\n",
    "            # Grants the elimination credit to a random player, or to the storm/fall damage (five times per game)\n",
    "            if elimcred == -1:\n",
    "                storm.remove(elimcred)\n",
    "            else:  \n",
    "                points[players[elimcred]] += 1  # Elimination points\n",
    "            if 25 > len(players) > 14:  # Placement points\n",
    "                points[eliminated] += 3\n",
    "            if 15 > len(players) > 4:\n",
    "                points[eliminated] += 5\n",
    "            if 5 > len(players) > 1:\n",
    "                points[eliminated] += 7\n",
    "            if len(players) == 1:\n",
    "                points[eliminated] += 7\n",
    "                points[players[0]] += 10\n",
    "    leaderboard = sorted(points)  # Highest scores after each World Cup are at the end.\n",
    "    marginabovesecond.append(leaderboard[-1] - leaderboard[-2])\n",
    "    marginabovethird.append(leaderboard[-1] - leaderboard[-3])\n",
    "marginabovesecond_pvalue = statistics.mean([1 if i >= 26 else 0 for i in marginabovesecond])\n",
    "marginabovethird_pvalue = statistics.mean([1 if i >= 27 else 0 for i in marginabovethird])\n",
    "print(\"P value for margin above second:\", marginabovesecond_pvalue)\n",
    "print(\"P value for margin above third:\", marginabovethird_pvalue)\n",
    "    \n",
    "            \n",
    "        \n",
    "        "
   ]
  },
  {
   "cell_type": "code",
   "execution_count": null,
   "metadata": {},
   "outputs": [],
   "source": []
  }
 ],
 "metadata": {
  "kernelspec": {
   "display_name": "Python 3",
   "language": "python",
   "name": "python3"
  },
  "language_info": {
   "codemirror_mode": {
    "name": "ipython",
    "version": 3
   },
   "file_extension": ".py",
   "mimetype": "text/x-python",
   "name": "python",
   "nbconvert_exporter": "python",
   "pygments_lexer": "ipython3",
   "version": "3.7.3"
  }
 },
 "nbformat": 4,
 "nbformat_minor": 2
}
